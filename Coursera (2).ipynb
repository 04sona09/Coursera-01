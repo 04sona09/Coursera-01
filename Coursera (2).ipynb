{
 "cells": [
  {
   "cell_type": "markdown",
   "id": "f24b03d9",
   "metadata": {},
   "source": [
    "COURSERA "
   ]
  },
  {
   "cell_type": "markdown",
   "id": "b83d9360",
   "metadata": {},
   "source": [
    "This ia an introductory line"
   ]
  },
  {
   "cell_type": "markdown",
   "id": "fd899eae",
   "metadata": {},
   "source": [
    "DATA SCIENCE LANGUAGES\n",
    "1. PYTHON\n",
    "2. R\n",
    "3. SCALA\n",
    "4. JULIA\n",
    "5. SQL"
   ]
  },
  {
   "cell_type": "markdown",
   "id": "9c833de4",
   "metadata": {},
   "source": [
    "DATA SCIENCE LIBRARIES \n",
    "1. NUMPY\n",
    "2. PANDAS \n",
    "3. PYTORCH"
   ]
  },
  {
   "cell_type": "markdown",
   "id": "6c9625c1",
   "metadata": {},
   "source": [
    "DATA SCIENCE TOOLS\n",
    "1. TABLEAU\n",
    "2. BIGML"
   ]
  },
  {
   "cell_type": "markdown",
   "id": "83ddd41c",
   "metadata": {},
   "source": [
    "INTRO TO ARITHMETIC \n",
    "1. + ADDITION OPERATION\n",
    "2. - SUBTRACTION OPERATION\n",
    "3. * MULTIPLICATION OPERATION\n",
    "4. / DIVISION OPERATION "
   ]
  },
  {
   "cell_type": "code",
   "execution_count": 2,
   "id": "6249bacc",
   "metadata": {},
   "outputs": [
    {
     "name": "stdout",
     "output_type": "stream",
     "text": [
      "8\n",
      "12\n"
     ]
    }
   ],
   "source": [
    "A = 2\n",
    "B = 6\n",
    "print(A+B)\n",
    "print(A*B)"
   ]
  },
  {
   "cell_type": "code",
   "execution_count": 4,
   "id": "9e4b974b",
   "metadata": {},
   "outputs": [
    {
     "name": "stdout",
     "output_type": "stream",
     "text": [
      "enter the minutes120\n",
      "2:0\n"
     ]
    }
   ],
   "source": [
    "total_minutes = int(input(\"enter the minutes\"))\n",
    "hours = total_minutes // 60\n",
    "minutes = total_minutes % 60\n",
    "time = \"{}:{}\".format(hours, minutes)\n",
    "print(time)"
   ]
  },
  {
   "cell_type": "markdown",
   "id": "961befc8",
   "metadata": {},
   "source": [
    "1234567"
   ]
  },
  {
   "cell_type": "markdown",
   "id": "8606c781",
   "metadata": {},
   "source": [
    "AUTHOR - SONA"
   ]
  }
 ],
 "metadata": {
  "kernelspec": {
   "display_name": "Python 3 (ipykernel)",
   "language": "python",
   "name": "python3"
  },
  "language_info": {
   "codemirror_mode": {
    "name": "ipython",
    "version": 3
   },
   "file_extension": ".py",
   "mimetype": "text/x-python",
   "name": "python",
   "nbconvert_exporter": "python",
   "pygments_lexer": "ipython3",
   "version": "3.11.3"
  }
 },
 "nbformat": 4,
 "nbformat_minor": 5
}
